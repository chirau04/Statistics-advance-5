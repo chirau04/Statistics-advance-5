{
 "cells": [
  {
   "cell_type": "code",
   "execution_count": 1,
   "id": "d4912e9c-3c8c-4ba1-b4c9-f3b2d44d3199",
   "metadata": {},
   "outputs": [
    {
     "name": "stdout",
     "output_type": "stream",
     "text": [
      "95% Confidence Interval: (49.02001800772997, 50.97998199227003)\n"
     ]
    }
   ],
   "source": [
    "import scipy.stats as stats\n",
    "\n",
    "# Sample mean\n",
    "sample_mean = 50\n",
    "\n",
    "# Standard deviation\n",
    "std_dev = 5\n",
    "\n",
    "# Sample size (assuming a large enough sample size for z-distribution)\n",
    "sample_size = 100\n",
    "\n",
    "# Calculate standard error (standard deviation of the sampling distribution)\n",
    "standard_error = std_dev / (sample_size ** 0.5)\n",
    "\n",
    "# Calculate the margin of error using the critical value from the standard normal distribution (Z)\n",
    "# For a 95% confidence level, the critical value is approximately 1.96\n",
    "z_critical = stats.norm.ppf(0.975)  # Two-tailed test, so divide alpha by 2\n",
    "margin_of_error = z_critical * standard_error\n",
    "\n",
    "# Calculate the confidence interval\n",
    "confidence_interval = (sample_mean - margin_of_error, sample_mean + margin_of_error)\n",
    "\n",
    "print(\"95% Confidence Interval:\", confidence_interval)"
   ]
  },
  {
   "cell_type": "code",
   "execution_count": 2,
   "id": "cec23d5d-bbbb-44b1-99e4-6a62e5620982",
   "metadata": {},
   "outputs": [
    {
     "ename": "NameError",
     "evalue": "name 'm_blue' is not defined",
     "output_type": "error",
     "traceback": [
      "\u001b[0;31m---------------------------------------------------------------------------\u001b[0m",
      "\u001b[0;31mNameError\u001b[0m                                 Traceback (most recent call last)",
      "Cell \u001b[0;32mIn[2], line 4\u001b[0m\n\u001b[1;32m      1\u001b[0m \u001b[38;5;28;01mfrom\u001b[39;00m \u001b[38;5;21;01mscipy\u001b[39;00m\u001b[38;5;21;01m.\u001b[39;00m\u001b[38;5;21;01mstats\u001b[39;00m \u001b[38;5;28;01mimport\u001b[39;00m chi2_contingency\n\u001b[1;32m      3\u001b[0m \u001b[38;5;66;03m# observed frequencies\u001b[39;00m\n\u001b[0;32m----> 4\u001b[0m observed \u001b[38;5;241m=\u001b[39m [\u001b[43mm_blue\u001b[49m, m_orange, m_green, m_yellow, m_red, m_brown, ms_blue, ms_orange, ms_green, ms_yellow, ms_red, ms_brown]\n\u001b[1;32m      6\u001b[0m \u001b[38;5;66;03m# expected frequencies\u001b[39;00m\n\u001b[1;32m      7\u001b[0m expected \u001b[38;5;241m=\u001b[39m [\u001b[38;5;241m0.2\u001b[39m\u001b[38;5;241m*\u001b[39m\u001b[38;5;28msum\u001b[39m(observed)] \u001b[38;5;241m*\u001b[39m \u001b[38;5;241m6\u001b[39m \u001b[38;5;241m+\u001b[39m [\u001b[38;5;241m0.2\u001b[39m\u001b[38;5;241m*\u001b[39m\u001b[38;5;28msum\u001b[39m(observed)] \u001b[38;5;241m*\u001b[39m \u001b[38;5;241m6\u001b[39m\n",
      "\u001b[0;31mNameError\u001b[0m: name 'm_blue' is not defined"
     ]
    }
   ],
   "source": [
    "from scipy.stats import chi2_contingency\n",
    "\n",
    "# observed frequencies\n",
    "observed = [m_blue, m_orange, m_green, m_yellow, m_red, m_brown, ms_blue, ms_orange, ms_green, ms_yellow, ms_red, ms_brown]\n",
    "\n",
    "# expected frequencies\n",
    "expected = [0.2*sum(observed)] * 6 + [0.2*sum(observed)] * 6\n",
    "\n",
    "# perform chi-square test\n",
    "chi2, p_value = chi2_contingency([observed, expected])[:2]\n",
    "\n",
    "# significance level\n",
    "alpha = 0.05\n",
    "\n",
    "# print results\n",
    "print(\"Chi-square statistic:\", chi2)\n",
    "print(\"P-value:\", p_value)\n",
    "\n",
    "if p_value < alpha:\n",
    "    print(\"Reject null hypothesis. The distribution of colors does not match the expected distribution.\")\n",
    "else:\n",
    "    print(\"Fail to reject null hypothesis. The distribution of colors matches the expected distribution.\")"
   ]
  },
  {
   "cell_type": "code",
   "execution_count": 3,
   "id": "b89ed2a0-2ee5-41c7-8403-97612b992950",
   "metadata": {},
   "outputs": [
    {
     "name": "stdout",
     "output_type": "stream",
     "text": [
      "Chi-square statistic: 5.833333333333334\n",
      "P-value: 0.05411376622282158\n",
      "Fail to reject null hypothesis. There is no significant association between outcomes and groups.\n"
     ]
    }
   ],
   "source": [
    "from scipy.stats import chi2_contingency\n",
    "\n",
    "# Contingency table data\n",
    "observed = [[20, 15], [10, 25], [15, 20]]\n",
    "\n",
    "# Perform chi-square test\n",
    "chi2, p_value, _, _ = chi2_contingency(observed)\n",
    "\n",
    "# Significance level\n",
    "alpha = 0.05\n",
    "\n",
    "# Print results\n",
    "print(\"Chi-square statistic:\", chi2)\n",
    "print(\"P-value:\", p_value)\n",
    "\n",
    "if p_value < alpha:\n",
    "    print(\"Reject null hypothesis. There is a significant association between outcomes and groups.\")\n",
    "else:\n",
    "    print(\"Fail to reject null hypothesis. There is no significant association between outcomes and groups.\")"
   ]
  },
  {
   "cell_type": "code",
   "execution_count": 4,
   "id": "13469ce9-519e-47bc-8ba2-c3a6d799b800",
   "metadata": {},
   "outputs": [
    {
     "name": "stdout",
     "output_type": "stream",
     "text": [
      "95% Confidence Interval for the true proportion of smokers: (0.09151638887130706, 0.14848361112869293)\n"
     ]
    }
   ],
   "source": [
    "import statsmodels.stats.proportion as proportion\n",
    "\n",
    "# Total population size\n",
    "n = 500\n",
    "\n",
    "# Number of individuals who smoke\n",
    "x = 60\n",
    "\n",
    "# Calculate the confidence interval\n",
    "conf_interval = proportion.proportion_confint(x, n, alpha=0.05, method='normal')\n",
    "\n",
    "print(\"95% Confidence Interval for the true proportion of smokers:\", conf_interval)"
   ]
  },
  {
   "cell_type": "code",
   "execution_count": 5,
   "id": "1c7f5a00-dec7-4b9e-bfb2-099904d83eb3",
   "metadata": {},
   "outputs": [
    {
     "name": "stdout",
     "output_type": "stream",
     "text": [
      "90% Confidence Interval: (73.02617564765823, 76.97382435234177)\n"
     ]
    }
   ],
   "source": [
    "import scipy.stats as stats\n",
    "\n",
    "# Sample mean\n",
    "mean = 75\n",
    "\n",
    "# Sample standard deviation\n",
    "std_dev = 12\n",
    "\n",
    "# Sample size (assuming it's sufficiently large for the normal approximation)\n",
    "sample_size = 100  # You need to specify the sample size to use the z-distribution\n",
    "\n",
    "# Confidence level (90%)\n",
    "confidence_level = 0.90\n",
    "\n",
    "# Calculate the margin of error\n",
    "margin_of_error = stats.norm.ppf(1 - (1 - confidence_level) / 2) * (std_dev / (sample_size ** 0.5))\n",
    "\n",
    "# Calculate the confidence interval\n",
    "lower_bound = mean - margin_of_error\n",
    "upper_bound = mean + margin_of_error\n",
    "\n",
    "print(\"90% Confidence Interval:\", (lower_bound, upper_bound))"
   ]
  },
  {
   "cell_type": "code",
   "execution_count": 6,
   "id": "171e94e6-14ef-4b87-97bf-1451647c9dd9",
   "metadata": {},
   "outputs": [
    {
     "data": {
      "image/png": "[encoded data removed]",
      "text/plain": [
       "<Figure size 640x480 with 1 Axes>"
      ]
     },
     "metadata": {},
     "output_type": "display_data"
    }
   ],
   "source": [
    "import numpy as np\n",
    "import matplotlib.pyplot as plt\n",
    "import scipy.stats as stats\n",
    "\n",
    "# Degrees of freedom\n",
    "df = 10\n",
    "\n",
    "# Generate values for the x-axis\n",
    "x = np.linspace(0, 30, 1000)\n",
    "\n",
    "# Plot the chi-square distribution\n",
    "plt.plot(x, stats.chi2.pdf(x, df), 'b-', label='Chi-square PDF (df=10)')\n",
    "\n",
    "# Shade the area corresponding to a chi-square statistic of 15\n",
    "x_shade = np.linspace(0, 15, 1000)\n",
    "plt.fill_between(x_shade, stats.chi2.pdf(x_shade, df), color='red', alpha=0.5, label='Chi-square statistic of 15')\n",
    "\n",
    "# Label the axis\n",
    "plt.xlabel('Chi-square statistic')\n",
    "plt.ylabel('Probability density function')\n",
    "plt.title('Chi-square Distribution')\n",
    "\n",
    "# Add a legend\n",
    "plt.legend()\n",
    "\n",
    "# Show the plot\n",
    "plt.grid(True)\n",
    "plt.show()"
   ]
  },
  {
   "cell_type": "code",
   "execution_count": 7,
   "id": "69344b43-ff92-4dbb-810b-6028616b1ec9",
   "metadata": {},
   "outputs": [
    {
     "name": "stdout",
     "output_type": "stream",
     "text": [
      "99% Confidence Interval for the number of people who prefer Coke: (0.4793051576779699, 0.5606948423220302)\n"
     ]
    }
   ],
   "source": [
    "import statsmodels.stats.proportion as proportion\n",
    "\n",
    "# Sample size\n",
    "n = 1000\n",
    "\n",
    "# Number of people who prefer Coke in the sample\n",
    "x = 520\n",
    "\n",
    "# Calculate the proportion of people who prefer Coke in the sample\n",
    "p_hat = x / n\n",
    "\n",
    "# Calculate the confidence interval\n",
    "conf_interval = proportion.proportion_confint(x, n, alpha=0.01, method='normal')\n",
    "\n",
    "print(\"99% Confidence Interval for the number of people who prefer Coke:\", conf_interval)"
   ]
  },
  {
   "cell_type": "code",
   "execution_count": 8,
   "id": "48d8d6f6-9c58-4ec3-aeb3-555c2b4f31fa",
   "metadata": {},
   "outputs": [
    {
     "name": "stdout",
     "output_type": "stream",
     "text": [
      "Chi-square statistic: 0.3208020050125313\n",
      "P-value: 0.5711260675200032\n",
      "Fail to reject null hypothesis. The observed frequencies match the expected frequencies of a fair coin.\n"
     ]
    }
   ],
   "source": [
    "from scipy.stats import chi2_contingency\n",
    "\n",
    "# Observed frequencies\n",
    "observed_tails = 45\n",
    "\n",
    "# Total number of trials\n",
    "total_trials = 100\n",
    "\n",
    "# Expected frequencies for a fair coin\n",
    "expected_tails = total_trials / 2  # Since we assume a fair coin, the expected number of tails is half of the total trials\n",
    "\n",
    "# Create observed and expected frequency lists\n",
    "observed = [observed_tails, total_trials - observed_tails]\n",
    "expected = [expected_tails, total_trials - expected_tails]\n",
    "\n",
    "# Perform chi-square test\n",
    "chi2, p_value = chi2_contingency([observed, expected])[:2]\n",
    "\n",
    "# Significance level\n",
    "alpha = 0.05\n",
    "\n",
    "# Print results\n",
    "print(\"Chi-square statistic:\", chi2)\n",
    "print(\"P-value:\", p_value)\n",
    "\n",
    "if p_value < alpha:\n",
    "    print(\"Reject null hypothesis. The observed frequencies do not match the expected frequencies of a fair coin.\")\n",
    "else:\n",
    "    print(\"Fail to reject null hypothesis. The observed frequencies match the expected frequencies of a fair coin.\")"
   ]
  },
  {
   "cell_type": "code",
   "execution_count": null,
   "id": "c9522fb8-0602-44a0-9e2e-72bda81323f5",
   "metadata": {},
   "outputs": [],
   "source": [
    "from scipy.stats import chi2_contingency\n",
    "\n",
    "# Contingency table data\n",
    "observed = [[60, 140], [30, 170]]\n",
    "\n",
    "# Perform chi-square test for independence\n",
    "chi2, p_value, _, _ = chi2_contingency(observed)\n",
    "\n",
    "# Significance level\n",
    "alpha = 0.05\n",
    "\n",
    "# Print results\n",
    "print(\"Chi-square statistic:\", chi2)\n",
    "print(\"P-value:\", p_value)\n",
    "\n",
    "if p_value < alpha:\n",
    "    print(\"Reject null hypothesis. There is a significant association between smoking status and lung cancer diagnosis.\")\n",
    "else:\n",
    "    print(\"Fail to reject null hypothesis. There is no significant association between smoking status and lung cancer diagnosis.\")"
   ]
  }
 ],
 "metadata": {
  "kernelspec": {
   "display_name": "Python 3 (ipykernel)",
   "language": "python",
   "name": "python3"
  },
  "language_info": {
   "codemirror_mode": {
    "name": "ipython",
    "version": 3
   },
   "file_extension": ".py",
   "mimetype": "text/x-python",
   "name": "python",
   "nbconvert_exporter": "python",
   "pygments_lexer": "ipython3",
   "version": "3.10.8"
  }
 },
 "nbformat": 4,
 "nbformat_minor": 5
}
